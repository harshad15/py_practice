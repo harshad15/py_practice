{
  "nbformat": 4,
  "nbformat_minor": 0,
  "metadata": {
    "colab": {
      "name": "Welcome To Colaboratory",
      "provenance": [],
      "collapsed_sections": [],
      "toc_visible": true,
      "include_colab_link": true
    },
    "kernelspec": {
      "display_name": "Python 3",
      "name": "python3"
    }
  },
  "cells": [
    {
      "cell_type": "markdown",
      "metadata": {
        "id": "view-in-github",
        "colab_type": "text"
      },
      "source": [
        "<a href=\"https://colab.research.google.com/github/harshad15/py_practice/blob/master/py_part1_basics.ipynb\" target=\"_parent\"><img src=\"https://colab.research.google.com/assets/colab-badge.svg\" alt=\"Open In Colab\"/></a>"
      ]
    },
    {
      "cell_type": "markdown",
      "metadata": {
        "id": "NA9I7fyfmQUT",
        "colab_type": "text"
      },
      "source": [
        "##### Exercise 31:Sum of the Digits in an Integer \n",
        "Develop a program that reads a four-digit integer from the user and displays the sum of the digits in the number. For example, if the user enters 3141 then your program should display 3+1+4+1=9."
      ]
    },
    {
      "cell_type": "code",
      "metadata": {
        "id": "gQdMEJy6e49G",
        "colab_type": "code",
        "colab": {
          "base_uri": "https://localhost:8080/",
          "height": 34
        },
        "outputId": "22cb4b00-1e16-4039-fca5-d2a7f8e115c1"
      },
      "source": [
        "n = str(input('A 4 digit number: '))"
      ],
      "execution_count": 3,
      "outputs": [
        {
          "output_type": "stream",
          "text": [
            "A 4 digit number: 1231\n"
          ],
          "name": "stdout"
        }
      ]
    },
    {
      "cell_type": "code",
      "metadata": {
        "id": "Zgp7Tye1kn6c",
        "colab_type": "code",
        "colab": {
          "base_uri": "https://localhost:8080/",
          "height": 34
        },
        "outputId": "e2525900-7961-418c-faf0-691756c1f031"
      },
      "source": [
        "y = int()\n",
        "for x in n:\n",
        "  y+=int(x)\n",
        "\n",
        "print('Sum is:' ,y) "
      ],
      "execution_count": 8,
      "outputs": [
        {
          "output_type": "stream",
          "text": [
            "Sum is: 7\n"
          ],
          "name": "stdout"
        }
      ]
    },
    {
      "cell_type": "markdown",
      "metadata": {
        "id": "oC8uOYmGmsRl",
        "colab_type": "text"
      },
      "source": [
        ""
      ]
    }
  ]
}