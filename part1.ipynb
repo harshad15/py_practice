{
  "nbformat": 4,
  "nbformat_minor": 0,
  "metadata": {
    "colab": {
      "name": "Welcome To Colaboratory",
      "provenance": [],
      "collapsed_sections": [],
      "toc_visible": true,
      "include_colab_link": true
    },
    "kernelspec": {
      "display_name": "Python 3",
      "name": "python3"
    }
  },
  "cells": [
    {
      "cell_type": "markdown",
      "metadata": {
        "id": "view-in-github",
        "colab_type": "text"
      },
      "source": [
        "<a href=\"https://colab.research.google.com/github/harshad15/py_practice/blob/master/part1.ipynb\" target=\"_parent\"><img src=\"https://colab.research.google.com/assets/colab-badge.svg\" alt=\"Open In Colab\"/></a>"
      ]
    },
    {
      "cell_type": "markdown",
      "metadata": {
        "id": "NA9I7fyfmQUT",
        "colab_type": "text"
      },
      "source": [
        "##### Exercise 31:Sum of the Digits in an Integer \n",
        "Develop a program that reads a four-digit integer from the user and displays the sum of the digits in the number. For example, if the user enters 3141 then your program should display 3+1+4+1=9."
      ]
    },
    {
      "cell_type": "code",
      "metadata": {
        "id": "gQdMEJy6e49G",
        "colab_type": "code",
        "colab": {
          "base_uri": "https://localhost:8080/",
          "height": 34
        },
        "outputId": "22cb4b00-1e16-4039-fca5-d2a7f8e115c1"
      },
      "source": [
        "n = str(input('A 4 digit number: '))"
      ],
      "execution_count": 3,
      "outputs": [
        {
          "output_type": "stream",
          "text": [
            "A 4 digit number: 1231\n"
          ],
          "name": "stdout"
        }
      ]
    },
    {
      "cell_type": "code",
      "metadata": {
        "id": "Zgp7Tye1kn6c",
        "colab_type": "code",
        "colab": {
          "base_uri": "https://localhost:8080/",
          "height": 34
        },
        "outputId": "e2525900-7961-418c-faf0-691756c1f031"
      },
      "source": [
        "y = int()\n",
        "for x in n:\n",
        "  y+=int(x)\n",
        "\n",
        "print('Sum is:' ,y) "
      ],
      "execution_count": 8,
      "outputs": [
        {
          "output_type": "stream",
          "text": [
            "Sum is: 7\n"
          ],
          "name": "stdout"
        }
      ]
    },
    {
      "cell_type": "markdown",
      "metadata": {
        "id": "oC8uOYmGmsRl",
        "colab_type": "text"
      },
      "source": [
        "Exercise 34: Even or Odd?\n",
        "(Solved—13 Lines)\n",
        "Write a program that reads an integer from the user. Then your program should\n",
        "display a message indicating whether the integer is even or odd."
      ]
    },
    {
      "cell_type": "code",
      "metadata": {
        "id": "v56jsAotJQwB",
        "colab_type": "code",
        "colab": {
          "base_uri": "https://localhost:8080/",
          "height": 51
        },
        "outputId": "e7810a21-d247-4fe6-e16f-74a6a7dc87ca"
      },
      "source": [
        "n= int(input('Enter the integer: '))\n",
        "\n",
        "if n%2==0:\n",
        "  print(n, 'is Even')\n",
        "else :\n",
        "  print(n, ' is Odd')\n"
      ],
      "execution_count": 8,
      "outputs": [
        {
          "output_type": "stream",
          "text": [
            "Enter the integer: 6\n",
            "6 is Even\n"
          ],
          "name": "stdout"
        }
      ]
    },
    {
      "cell_type": "markdown",
      "metadata": {
        "id": "tFD7aEhcKtA8",
        "colab_type": "text"
      },
      "source": [
        "Exercise 35: Dog Years                                    (22 Lines)\n",
        "\n",
        "\n",
        "It is commonly said that one human year is equivalent to 7 dog years. However this\n",
        "simple conversion fails to recognize that dogs reach adulthood in approximately two\n",
        "years. As a result, some people believe that it is better to count each of the first two\n",
        "human years as 10.5 dog years, and then count each additional human year as 4 dog\n",
        "years.\n",
        "\n",
        "Write a program that implements the conversion from human years to dog years\n",
        "described in the previous paragraph. Ensure that your program works correctly for\n",
        "conversions of less than two human years and for conversions of two or more human\n",
        "years. Your program should display an appropriate error message if the user enters\n",
        "a negative number."
      ]
    },
    {
      "cell_type": "code",
      "metadata": {
        "id": "ERhx6L3uK1SO",
        "colab_type": "code",
        "colab": {
          "base_uri": "https://localhost:8080/",
          "height": 51
        },
        "outputId": "e2b590e2-3ef3-4596-f88e-30cee616b118"
      },
      "source": [
        "h_age = float(input('Enter human Age in years: '))\n",
        "\n",
        "factor_2yrs = 10.5\n",
        "factor_2plus_yrs = 4\n",
        "\n",
        "if h_age<0:\n",
        "  print('Negative human age.WTF')\n",
        "else:\n",
        "  if h_age<=2:\n",
        "    d_age = h_age*factor_2yrs\n",
        "  else:\n",
        "    d_age = 2*factor_2yrs + (h_age - 2)*factor_2plus_yrs\n",
        "\n",
        "\n",
        "print(h_age, 'human years is',d_age,' in dog years')\n"
      ],
      "execution_count": 14,
      "outputs": [
        {
          "output_type": "stream",
          "text": [
            "Enter human Age in years: 3\n",
            "3.0 human years is 25.0  in dog years\n"
          ],
          "name": "stdout"
        }
      ]
    },
    {
      "cell_type": "markdown",
      "metadata": {
        "id": "L7M2ZKjrNFU0",
        "colab_type": "text"
      },
      "source": [
        "Exercise 36:Vowel or Consonant\n",
        "(Solved—16 Lines)\n",
        "\n",
        "\n",
        "In this exercise you will create a program that reads a letter of the alphabet from the\n",
        "user. If the user enters a, e, i, o or u then your program should display a message\n",
        "indicating that the entered letter is a vowel. If the user enters y then your program\n",
        "should display a message indicating that sometimes y is a vowel, and sometimes y is\n",
        "a consonant. Otherwise your program should display a message indicating that the\n",
        "letter is a consonant."
      ]
    },
    {
      "cell_type": "code",
      "metadata": {
        "id": "N9GGpHyiNHSQ",
        "colab_type": "code",
        "colab": {
          "base_uri": "https://localhost:8080/",
          "height": 51
        },
        "outputId": "ae4691fd-8e15-4e18-b84c-1923b29429f2"
      },
      "source": [
        "s = str(input('Enter alphabet: '))\n",
        "\n",
        "if s=='y':\n",
        "  print('Sometimes y is a vowel, and sometimes y is a consonant')\n",
        "elif s in ['a','e','i','o','u']:\n",
        "  print(s, 'is a vowel')\n",
        "else:\n",
        "  print(s, 'is a consonant')\n"
      ],
      "execution_count": 17,
      "outputs": [
        {
          "output_type": "stream",
          "text": [
            "Enter alphabet: y\n",
            "Sometimes y is a vowel, and sometimes y is a consonant\n"
          ],
          "name": "stdout"
        }
      ]
    },
    {
      "cell_type": "markdown",
      "metadata": {
        "id": "IARHQvJBOBtf",
        "colab_type": "text"
      },
      "source": [
        "Exercise 37:Name that Shape\n",
        "(Solved—31 Lines)\n",
        "\n",
        "\n",
        "Write a program that determines the name of a shape from its number of sides. Read\n",
        "the number of sides from the user and then report the appropriate name as part of\n",
        "a meaningful message. Your program should support shapes with anywhere from 3\n",
        "up to (and including) 10 sides. If a number of sides outside of this range is entered\n",
        "then your program should display an appropriate error message."
      ]
    },
    {
      "cell_type": "code",
      "metadata": {
        "id": "5MSKY2xtOC8S",
        "colab_type": "code",
        "colab": {
          "base_uri": "https://localhost:8080/",
          "height": 51
        },
        "outputId": "31e01efc-3508-46e6-9d29-91c1f927d116"
      },
      "source": [
        "\n",
        "sides = int(input('Enter number of sides: '))\n",
        "\n",
        "s_dict = {3:'Triange',4:'quad',5:'Pent',6:'Hex'}\n",
        "\n",
        "if sides>=3 and sides<=6:\n",
        "  for k in s_dict:\n",
        "    if k==sides:\n",
        "      print(s_dict[k])\n",
        "else:\n",
        "  print('Incorrect number of Sides')"
      ],
      "execution_count": 21,
      "outputs": [
        {
          "output_type": "stream",
          "text": [
            "Enter number of sides: 7\n",
            "Incorrect number of Sides\n"
          ],
          "name": "stdout"
        }
      ]
    },
    {
      "cell_type": "markdown",
      "metadata": {
        "id": "-BuOnawuQttz",
        "colab_type": "text"
      },
      "source": [
        ""
      ]
    },
    {
      "cell_type": "code",
      "metadata": {
        "id": "ULgscjYzT3Or",
        "colab_type": "code",
        "colab": {
          "base_uri": "https://localhost:8080/",
          "height": 122
        },
        "outputId": "142b9d60-bd03-4059-cd96-41f9cbe15947"
      },
      "source": [
        "from google.colab import drive\n",
        "drive.mount('/content/drive')"
      ],
      "execution_count": 22,
      "outputs": [
        {
          "output_type": "stream",
          "text": [
            "Go to this URL in a browser: https://accounts.google.com/o/oauth2/auth?client_id=947318989803-6bn6qk8qdgf4n4g3pfee6491hc0brc4i.apps.googleusercontent.com&redirect_uri=urn%3aietf%3awg%3aoauth%3a2.0%3aoob&response_type=code&scope=email%20https%3a%2f%2fwww.googleapis.com%2fauth%2fdocs.test%20https%3a%2f%2fwww.googleapis.com%2fauth%2fdrive%20https%3a%2f%2fwww.googleapis.com%2fauth%2fdrive.photos.readonly%20https%3a%2f%2fwww.googleapis.com%2fauth%2fpeopleapi.readonly\n",
            "\n",
            "Enter your authorization code:\n",
            "··········\n",
            "Mounted at /content/drive\n"
          ],
          "name": "stdout"
        }
      ]
    },
    {
      "cell_type": "code",
      "metadata": {
        "id": "HMYPnunqQvVz",
        "colab_type": "code",
        "colab": {}
      },
      "source": [
        ""
      ],
      "execution_count": 0,
      "outputs": []
    }
  ]
}